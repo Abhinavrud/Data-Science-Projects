{
 "cells": [
  {
   "cell_type": "code",
   "execution_count": 1,
   "metadata": {
    "collapsed": true
   },
   "outputs": [
    {
     "data": {
      "text/html": [
       "<table>\n",
       "<thead><tr><th scope=col>Months</th><th scope=col>Sum.of.No..of.Speeches</th><th scope=col>Sum.of.No..word..Economy..used</th></tr></thead>\n",
       "<tbody>\n",
       "\t<tr><td>Mar</td><td> 6 </td><td>10 </td></tr>\n",
       "\t<tr><td>Apr</td><td> 5 </td><td> 0 </td></tr>\n",
       "\t<tr><td>May</td><td> 4 </td><td> 5 </td></tr>\n",
       "\t<tr><td>Jun</td><td>13 </td><td>19 </td></tr>\n",
       "\t<tr><td>Jul</td><td>13 </td><td>16 </td></tr>\n",
       "\t<tr><td>Aug</td><td> 9 </td><td>14 </td></tr>\n",
       "</tbody>\n",
       "</table>\n"
      ],
      "text/latex": [
       "\\begin{tabular}{r|lll}\n",
       " Months & Sum.of.No..of.Speeches & Sum.of.No..word..Economy..used\\\\\n",
       "\\hline\n",
       "\t Mar &  6  & 10 \\\\\n",
       "\t Apr &  5  &  0 \\\\\n",
       "\t May &  4  &  5 \\\\\n",
       "\t Jun & 13  & 19 \\\\\n",
       "\t Jul & 13  & 16 \\\\\n",
       "\t Aug &  9  & 14 \\\\\n",
       "\\end{tabular}\n"
      ],
      "text/markdown": [
       "\n",
       "| Months | Sum.of.No..of.Speeches | Sum.of.No..word..Economy..used |\n",
       "|---|---|---|\n",
       "| Mar |  6  | 10  |\n",
       "| Apr |  5  |  0  |\n",
       "| May |  4  |  5  |\n",
       "| Jun | 13  | 19  |\n",
       "| Jul | 13  | 16  |\n",
       "| Aug |  9  | 14  |\n",
       "\n"
      ],
      "text/plain": [
       "  Months Sum.of.No..of.Speeches Sum.of.No..word..Economy..used\n",
       "1 Mar     6                     10                            \n",
       "2 Apr     5                      0                            \n",
       "3 May     4                      5                            \n",
       "4 Jun    13                     19                            \n",
       "5 Jul    13                     16                            \n",
       "6 Aug     9                     14                            "
      ]
     },
     "metadata": {},
     "output_type": "display_data"
    }
   ],
   "source": [
    "library(readxl)\n",
    "df=data.frame(read_xlsx(\"test.xlsx\"))\n",
    "df"
   ]
  },
  {
   "cell_type": "code",
   "execution_count": 5,
   "metadata": {
    "collapsed": true
   },
   "outputs": [
    {
     "data": {
      "text/html": [
       "<table>\n",
       "<thead><tr><th></th><th scope=col>Sum.of.No..word..Economy..used</th></tr></thead>\n",
       "<tbody>\n",
       "\t<tr><th scope=row>Sum.of.No..of.Speeches</th><td>0.8970072</td></tr>\n",
       "</tbody>\n",
       "</table>\n"
      ],
      "text/latex": [
       "\\begin{tabular}{r|l}\n",
       "  & Sum.of.No..word..Economy..used\\\\\n",
       "\\hline\n",
       "\tSum.of.No..of.Speeches & 0.8970072\\\\\n",
       "\\end{tabular}\n"
      ],
      "text/markdown": [
       "\n",
       "| <!--/--> | Sum.of.No..word..Economy..used |\n",
       "|---|---|\n",
       "| Sum.of.No..of.Speeches | 0.8970072 |\n",
       "\n"
      ],
      "text/plain": [
       "                       Sum.of.No..word..Economy..used\n",
       "Sum.of.No..of.Speeches 0.8970072                     "
      ]
     },
     "metadata": {},
     "output_type": "display_data"
    }
   ],
   "source": [
    "cor(df[2],df[3])\n",
    "# strong coorelation between No.of speeches and use of Word \"Economy\""
   ]
  },
  {
   "cell_type": "code",
   "execution_count": 4,
   "metadata": {},
   "outputs": [
    {
     "data": {
      "text/plain": [
       "\n",
       "\tWelch Two Sample t-test\n",
       "\n",
       "data:  df[2] and df[3]\n",
       "t = -0.6986, df = 7.8335, p-value = 0.505\n",
       "alternative hypothesis: true difference in means is not equal to 0\n",
       "95 percent confidence interval:\n",
       " -10.063959   5.397292\n",
       "sample estimates:\n",
       "mean of x mean of y \n",
       " 8.333333 10.666667 \n"
      ]
     },
     "metadata": {},
     "output_type": "display_data"
    }
   ],
   "source": [
    "t.test(df[2],df[3])"
   ]
  },
  {
   "cell_type": "markdown",
   "metadata": {},
   "source": [
    "#### p value is greater than 0.05 and null hypothesis is retained and we reject alternate hypothesis. Hence means of two set of data is related and dependent on each other "
   ]
  },
  {
   "cell_type": "code",
   "execution_count": 6,
   "metadata": {},
   "outputs": [
    {
     "data": {
      "text/plain": [
       "\n",
       "\tF test to compare two variances\n",
       "\n",
       "data:  x and y\n",
       "F = 0.3107, num df = 5, denom df = 5, p-value = 0.2254\n",
       "alternative hypothesis: true ratio of variances is not equal to 1\n",
       "95 percent confidence interval:\n",
       " 0.04347724 2.22041629\n",
       "sample estimates:\n",
       "ratio of variances \n",
       "          0.310705 \n"
      ]
     },
     "metadata": {},
     "output_type": "display_data"
    }
   ],
   "source": [
    "x<-c(6,5,4,13,13,9)\n",
    "y<-c(10,0,5,19,16,14)\n",
    "var.test(x,y)\n",
    "#var.test(df[2],df[3]) there was some gitich using this command"
   ]
  },
  {
   "cell_type": "markdown",
   "metadata": {},
   "source": [
    "####  p value of F-test is greater than 0.05 and null hypothesis is retained and we reject alternate hypothesis.Hence variance of two set of data (i.e no. of Speeches and no. of word \"Economy\") are nearly equal."
   ]
  },
  {
   "cell_type": "markdown",
   "metadata": {},
   "source": [
    "### Both the test also conclude that data no. of speeches and no. of word \"Economy\" used are dependent."
   ]
  },
  {
   "cell_type": "code",
   "execution_count": null,
   "metadata": {},
   "outputs": [],
   "source": []
  }
 ],
 "metadata": {
  "kernelspec": {
   "display_name": "R",
   "language": "R",
   "name": "ir"
  },
  "language_info": {
   "codemirror_mode": "r",
   "file_extension": ".r",
   "mimetype": "text/x-r-source",
   "name": "R",
   "pygments_lexer": "r",
   "version": "3.6.1"
  }
 },
 "nbformat": 4,
 "nbformat_minor": 2
}

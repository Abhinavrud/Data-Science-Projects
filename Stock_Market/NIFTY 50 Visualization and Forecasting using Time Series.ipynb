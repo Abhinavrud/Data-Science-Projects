{
 "cells": [
  {
   "cell_type": "markdown",
   "metadata": {},
   "source": [
    "# <font color='blue'>NIFTY 50 📈Visualization and Forecasting using Time Series</font>\n"
   ]
  },
  {
   "cell_type": "markdown",
   "metadata": {},
   "source": [
    "* [__Introduction to Data__](#1)\n",
    "* [Import Libraries and Data Input](#2)\n",
    "* [Data Cleaning](#3)\n",
    "* [Visualizing the datasets](#4)\n",
    "    * [Nifty 50 Close Price Visulization](#5)\n",
    "    * [Nifty BANK Close Price Visulization](#6)\n",
    "* [Comparing time series](#7)\n",
    "* [The augmented Dicky-Fuller test](#8)\n",
    "* [Making a time series stationary](#9)\n",
    "    * [Difference Δyt = yt − yt−1](#10)\n",
    "    * [proportional change](#11)\n",
    "* [Window functions](#12)\n",
    "* [Financial Charts](#13)\n",
    "    * [OHLC chart](#14)\n",
    "    * [Candlestick chart](#15)\n",
    "* [Time series decomposition](#16)\n",
    "* [Autocorrelation and Partial Autocorrelation](#17)\n",
    "* [Using ACF and PACF to choose model order](#18)\n",
    "* [SARIMAXA Model](#19)\n",
    "* [SARIMAXA Model diagnostics](#20)\n",
    "* [Prediction on train data](#21)\n",
    "* [Forecasting on train data](#22)\n",
    "* [Plot Prediction and Forcasting](#23)"
   ]
  },
  {
   "cell_type": "markdown",
   "metadata": {},
   "source": [
    "## Import Libraries and Data Input<a id='2'></a>"
   ]
  },
  {
   "cell_type": "code",
   "execution_count": 1,
   "metadata": {
    "_cell_guid": "b1076dfc-b9ad-4769-8c92-a6c4dae69d19",
    "_uuid": "8f2839f25d086af736a60e9eeb907d3b93b6e0e5"
   },
   "outputs": [
    {
     "data": {
      "text/html": [
       "        <script type=\"text/javascript\">\n",
       "        window.PlotlyConfig = {MathJaxConfig: 'local'};\n",
       "        if (window.MathJax) {MathJax.Hub.Config({SVG: {font: \"STIX-Web\"}});}\n",
       "        if (typeof require !== 'undefined') {\n",
       "        require.undef(\"plotly\");\n",
       "        requirejs.config({\n",
       "            paths: {\n",
       "                'plotly': ['https://cdn.plot.ly/plotly-latest.min']\n",
       "            }\n",
       "        });\n",
       "        require(['plotly'], function(Plotly) {\n",
       "            window._Plotly = Plotly;\n",
       "        });\n",
       "        }\n",
       "        </script>\n",
       "        "
      ]
     },
     "metadata": {},
     "output_type": "display_data"
    }
   ],
   "source": [
    "import numpy as np \n",
    "import pandas as pd\n",
    "import seaborn as sns\n",
    "color = sns.color_palette()\n",
    "import matplotlib.pyplot as plt\n",
    "\n",
    "import warnings\n",
    "warnings.filterwarnings('ignore')\n",
    "\n",
    "import plotly.offline as py\n",
    "from plotly import tools\n",
    "py.init_notebook_mode(connected=True)\n",
    "import plotly.graph_objs as go\n",
    "import plotly.express as px\n",
    "\n",
    "from statsmodels.tsa.stattools import adfuller\n",
    "from statsmodels.graphics.tsaplots import plot_acf, plot_pacf\n",
    "from statsmodels.tsa.seasonal import seasonal_decompose\n",
    "from statsmodels.tsa.statespace.sarimax import SARIMAX"
   ]
  },
  {
   "cell_type": "code",
   "execution_count": 2,
   "metadata": {
    "_cell_guid": "79c7e3d0-c299-4dcb-8224-4455121ee9b0",
    "_uuid": "d629ff2d2480ee46fbb7e2d37f6b5fab8052498a"
   },
   "outputs": [
    {
     "data": {
      "text/html": [
       "<div>\n",
       "<style scoped>\n",
       "    .dataframe tbody tr th:only-of-type {\n",
       "        vertical-align: middle;\n",
       "    }\n",
       "\n",
       "    .dataframe tbody tr th {\n",
       "        vertical-align: top;\n",
       "    }\n",
       "\n",
       "    .dataframe thead th {\n",
       "        text-align: right;\n",
       "    }\n",
       "</style>\n",
       "<table border=\"1\" class=\"dataframe\">\n",
       "  <thead>\n",
       "    <tr style=\"text-align: right;\">\n",
       "      <th></th>\n",
       "      <th>Open</th>\n",
       "      <th>High</th>\n",
       "      <th>Low</th>\n",
       "      <th>Close</th>\n",
       "      <th>Volume</th>\n",
       "      <th>Turnover</th>\n",
       "      <th>P/E</th>\n",
       "      <th>P/B</th>\n",
       "      <th>Div Yield</th>\n",
       "    </tr>\n",
       "    <tr>\n",
       "      <th>Date</th>\n",
       "      <th></th>\n",
       "      <th></th>\n",
       "      <th></th>\n",
       "      <th></th>\n",
       "      <th></th>\n",
       "      <th></th>\n",
       "      <th></th>\n",
       "      <th></th>\n",
       "      <th></th>\n",
       "    </tr>\n",
       "  </thead>\n",
       "  <tbody>\n",
       "    <tr>\n",
       "      <th>2000-01-03</th>\n",
       "      <td>1482.15</td>\n",
       "      <td>1592.90</td>\n",
       "      <td>1482.15</td>\n",
       "      <td>1592.2</td>\n",
       "      <td>25358322.0</td>\n",
       "      <td>8.841500e+09</td>\n",
       "      <td>25.91</td>\n",
       "      <td>4.63</td>\n",
       "      <td>0.95</td>\n",
       "    </tr>\n",
       "    <tr>\n",
       "      <th>2000-01-04</th>\n",
       "      <td>1594.40</td>\n",
       "      <td>1641.95</td>\n",
       "      <td>1594.40</td>\n",
       "      <td>1638.7</td>\n",
       "      <td>38787872.0</td>\n",
       "      <td>1.973690e+10</td>\n",
       "      <td>26.67</td>\n",
       "      <td>4.76</td>\n",
       "      <td>0.92</td>\n",
       "    </tr>\n",
       "    <tr>\n",
       "      <th>2000-01-05</th>\n",
       "      <td>1634.55</td>\n",
       "      <td>1635.50</td>\n",
       "      <td>1555.05</td>\n",
       "      <td>1595.8</td>\n",
       "      <td>62153431.0</td>\n",
       "      <td>3.084790e+10</td>\n",
       "      <td>25.97</td>\n",
       "      <td>4.64</td>\n",
       "      <td>0.95</td>\n",
       "    </tr>\n",
       "    <tr>\n",
       "      <th>2000-01-06</th>\n",
       "      <td>1595.80</td>\n",
       "      <td>1639.00</td>\n",
       "      <td>1595.80</td>\n",
       "      <td>1617.6</td>\n",
       "      <td>51272875.0</td>\n",
       "      <td>2.531180e+10</td>\n",
       "      <td>26.32</td>\n",
       "      <td>4.70</td>\n",
       "      <td>0.94</td>\n",
       "    </tr>\n",
       "    <tr>\n",
       "      <th>2000-01-07</th>\n",
       "      <td>1616.60</td>\n",
       "      <td>1628.25</td>\n",
       "      <td>1597.20</td>\n",
       "      <td>1613.3</td>\n",
       "      <td>54315945.0</td>\n",
       "      <td>1.914630e+10</td>\n",
       "      <td>26.25</td>\n",
       "      <td>4.69</td>\n",
       "      <td>0.94</td>\n",
       "    </tr>\n",
       "  </tbody>\n",
       "</table>\n",
       "</div>"
      ],
      "text/plain": [
       "               Open     High      Low   Close      Volume      Turnover  \\\n",
       "Date                                                                      \n",
       "2000-01-03  1482.15  1592.90  1482.15  1592.2  25358322.0  8.841500e+09   \n",
       "2000-01-04  1594.40  1641.95  1594.40  1638.7  38787872.0  1.973690e+10   \n",
       "2000-01-05  1634.55  1635.50  1555.05  1595.8  62153431.0  3.084790e+10   \n",
       "2000-01-06  1595.80  1639.00  1595.80  1617.6  51272875.0  2.531180e+10   \n",
       "2000-01-07  1616.60  1628.25  1597.20  1613.3  54315945.0  1.914630e+10   \n",
       "\n",
       "              P/E   P/B  Div Yield  \n",
       "Date                                \n",
       "2000-01-03  25.91  4.63       0.95  \n",
       "2000-01-04  26.67  4.76       0.92  \n",
       "2000-01-05  25.97  4.64       0.95  \n",
       "2000-01-06  26.32  4.70       0.94  \n",
       "2000-01-07  26.25  4.69       0.94  "
      ]
     },
     "execution_count": 2,
     "metadata": {},
     "output_type": "execute_result"
    }
   ],
   "source": [
    "nifty_50_df = pd.read_csv(\"NIFTY 50.csv\", index_col='Date', parse_dates=['Date'])\n",
    "nifty_bank_df = pd.read_csv(\"NIFTY BANK.csv\", index_col='Date', parse_dates=['Date'])\n",
    "\n",
    "nifty_50_df.head(5)"
   ]
  },
  {
   "cell_type": "code",
   "execution_count": 3,
   "metadata": {},
   "outputs": [
    {
     "data": {
      "text/html": [
       "<div>\n",
       "<style scoped>\n",
       "    .dataframe tbody tr th:only-of-type {\n",
       "        vertical-align: middle;\n",
       "    }\n",
       "\n",
       "    .dataframe tbody tr th {\n",
       "        vertical-align: top;\n",
       "    }\n",
       "\n",
       "    .dataframe thead th {\n",
       "        text-align: right;\n",
       "    }\n",
       "</style>\n",
       "<table border=\"1\" class=\"dataframe\">\n",
       "  <thead>\n",
       "    <tr style=\"text-align: right;\">\n",
       "      <th></th>\n",
       "      <th>Open</th>\n",
       "      <th>High</th>\n",
       "      <th>Low</th>\n",
       "      <th>Close</th>\n",
       "      <th>Volume</th>\n",
       "      <th>Turnover</th>\n",
       "      <th>P/E</th>\n",
       "      <th>P/B</th>\n",
       "      <th>Div Yield</th>\n",
       "    </tr>\n",
       "    <tr>\n",
       "      <th>Date</th>\n",
       "      <th></th>\n",
       "      <th></th>\n",
       "      <th></th>\n",
       "      <th></th>\n",
       "      <th></th>\n",
       "      <th></th>\n",
       "      <th></th>\n",
       "      <th></th>\n",
       "      <th></th>\n",
       "    </tr>\n",
       "  </thead>\n",
       "  <tbody>\n",
       "    <tr>\n",
       "      <th>2020-07-21</th>\n",
       "      <td>11126.10</td>\n",
       "      <td>11179.55</td>\n",
       "      <td>11113.25</td>\n",
       "      <td>11162.25</td>\n",
       "      <td>771998838.0</td>\n",
       "      <td>4.246189e+11</td>\n",
       "      <td>29.01</td>\n",
       "      <td>3.18</td>\n",
       "      <td>1.44</td>\n",
       "    </tr>\n",
       "    <tr>\n",
       "      <th>2020-07-22</th>\n",
       "      <td>11231.20</td>\n",
       "      <td>11238.10</td>\n",
       "      <td>11056.55</td>\n",
       "      <td>11132.60</td>\n",
       "      <td>765074288.0</td>\n",
       "      <td>4.106872e+11</td>\n",
       "      <td>28.93</td>\n",
       "      <td>3.17</td>\n",
       "      <td>1.44</td>\n",
       "    </tr>\n",
       "    <tr>\n",
       "      <th>2020-07-23</th>\n",
       "      <td>11135.00</td>\n",
       "      <td>11239.80</td>\n",
       "      <td>11103.15</td>\n",
       "      <td>11215.45</td>\n",
       "      <td>621575333.0</td>\n",
       "      <td>3.274493e+11</td>\n",
       "      <td>29.20</td>\n",
       "      <td>3.20</td>\n",
       "      <td>1.43</td>\n",
       "    </tr>\n",
       "    <tr>\n",
       "      <th>2020-07-24</th>\n",
       "      <td>11149.95</td>\n",
       "      <td>11225.40</td>\n",
       "      <td>11090.30</td>\n",
       "      <td>11194.15</td>\n",
       "      <td>678935175.0</td>\n",
       "      <td>4.021717e+11</td>\n",
       "      <td>29.35</td>\n",
       "      <td>3.19</td>\n",
       "      <td>1.43</td>\n",
       "    </tr>\n",
       "    <tr>\n",
       "      <th>2020-07-27</th>\n",
       "      <td>11225.00</td>\n",
       "      <td>11225.00</td>\n",
       "      <td>11087.85</td>\n",
       "      <td>11131.80</td>\n",
       "      <td>NaN</td>\n",
       "      <td>NaN</td>\n",
       "      <td>29.18</td>\n",
       "      <td>3.17</td>\n",
       "      <td>1.44</td>\n",
       "    </tr>\n",
       "  </tbody>\n",
       "</table>\n",
       "</div>"
      ],
      "text/plain": [
       "                Open      High       Low     Close       Volume      Turnover  \\\n",
       "Date                                                                            \n",
       "2020-07-21  11126.10  11179.55  11113.25  11162.25  771998838.0  4.246189e+11   \n",
       "2020-07-22  11231.20  11238.10  11056.55  11132.60  765074288.0  4.106872e+11   \n",
       "2020-07-23  11135.00  11239.80  11103.15  11215.45  621575333.0  3.274493e+11   \n",
       "2020-07-24  11149.95  11225.40  11090.30  11194.15  678935175.0  4.021717e+11   \n",
       "2020-07-27  11225.00  11225.00  11087.85  11131.80          NaN           NaN   \n",
       "\n",
       "              P/E   P/B  Div Yield  \n",
       "Date                                \n",
       "2020-07-21  29.01  3.18       1.44  \n",
       "2020-07-22  28.93  3.17       1.44  \n",
       "2020-07-23  29.20  3.20       1.43  \n",
       "2020-07-24  29.35  3.19       1.43  \n",
       "2020-07-27  29.18  3.17       1.44  "
      ]
     },
     "execution_count": 3,
     "metadata": {},
     "output_type": "execute_result"
    }
   ],
   "source": [
    "nifty_50_df.tail(5)"
   ]
  },
  {
   "cell_type": "markdown",
   "metadata": {},
   "source": [
    "* <font color='red'>P/E</font>: The basic definition of a P/E ratio is stock price divided by <font color='Blue'>earnings per share</font> (EPS).\n",
    "* <font color='red'>P/B</font>: The P/B ratio compares a company's market capitalization, or market value, to its <font color='Blue'>book value</font>.\n",
    "* <font color='red'>Open</font> : the last trading price of the previous day\n",
    "* <font color='red'>Close</font> : trading price of the day.\n",
    "* <font color='red'>Dividend yield</font> is the financial ratio that measures the quantum of cash dividends paid out to shareholders relative to the market value per share. It is computed by dividing the dividend per share by the market price per share and multiplying the result by 100."
   ]
  },
  {
   "cell_type": "markdown",
   "metadata": {},
   "source": [
    "## Data Cleaning<a id='3'></a>"
   ]
  },
  {
   "cell_type": "markdown",
   "metadata": {},
   "source": [
    "* <font color='red'>nifty_50_df</font> Data doesn't have missing value,cleaning is done by <font color='red'>fillna()</font> method with ffill parameter which propagates last valid observation to fill gaps"
   ]
  },
  {
   "cell_type": "code",
   "execution_count": 4,
   "metadata": {},
   "outputs": [],
   "source": [
    "nifty_50_df = nifty_50_df.fillna(method='ffill')\n",
    "nifty_bank_df = nifty_bank_df.fillna(method='ffill')"
   ]
  },
  {
   "cell_type": "markdown",
   "metadata": {},
   "source": [
    "## Visualizing the datasets<a id='4'></a>"
   ]
  },
  {
   "cell_type": "code",
   "execution_count": 5,
   "metadata": {},
   "outputs": [],
   "source": [
    "def plot_attribute(df, attritube ,start='2000', end='2020',color ='blue'):\n",
    "    fig, ax = plt.subplots(1, figsize=(20,5))\n",
    "    ax.plot(df[start:end].index, df[start:end][attritube],'tab:{}'.format(color))\n",
    "    ax.set_title(\"Nifty stock {} from 2000 to 2020\".format(attritube))\n",
    "    \n",
    "    ax.axhline(y=df[start:end].describe()[attritube][\"max\"],linewidth=2, color='m')\n",
    "    ax.axhline(y=df[start:end].describe()[attritube][\"min\"],linewidth=2, color='c')\n",
    "    ax.axvline(x=df[attritube].idxmax(),linewidth=2, color='b')\n",
    "    ax.axvline(x=df[attritube].idxmin() ,linewidth=2, color='y')\n",
    "    \n",
    "    ax.text(x=df[attritube].idxmax(),\n",
    "            y=df[start:end].describe()[attritube][\"max\"],\n",
    "            s='MAX',\n",
    "            horizontalalignment='right',\n",
    "            verticalalignment='bottom',\n",
    "            color='blue',\n",
    "            fontsize=20)\n",
    "    \n",
    "    ax.text(x=df[attritube].idxmin(),\n",
    "            y=df[start:end].describe()[attritube][\"min\"],\n",
    "            s='MIN',\n",
    "            horizontalalignment='left',\n",
    "            verticalalignment='top',\n",
    "            color='red',\n",
    "            fontsize=20)\n",
    "    \n",
    "    plt.show()\n",
    "    print(\"Max Value :  \",df[start:end].describe()[attritube][\"max\"])\n",
    "    print(\"Min Value :  \",df[start:end].describe()[attritube][\"min\"])\n"
   ]
  },
  {
   "cell_type": "markdown",
   "metadata": {},
   "source": [
    "### Nifty 50 Close Price Visulization<a id='5'></a>"
   ]
  },
  {
   "cell_type": "code",
   "execution_count": 6,
   "metadata": {},
   "outputs": [
    {
     "data": {
      "image/png": "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\n",
      "text/plain": [
       "<Figure size 1440x360 with 1 Axes>"
      ]
     },
     "metadata": {
      "needs_background": "light"
     },
     "output_type": "display_data"
    },
    {
     "name": "stdout",
     "output_type": "stream",
     "text": [
      "Max Value :   12362.3\n",
      "Min Value :   854.2\n"
     ]
    }
   ],
   "source": [
    "plot_attribute(nifty_50_df,\"Close\",color='red')"
   ]
  },
  {
   "cell_type": "markdown",
   "metadata": {},
   "source": [
    "### Nifty BANK Close Price Visulization<a id='6'></a>"
   ]
  },
  {
   "cell_type": "code",
   "execution_count": 7,
   "metadata": {},
   "outputs": [
    {
     "data": {
      "image/png": "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\n",
      "text/plain": [
       "<Figure size 1440x360 with 1 Axes>"
      ]
     },
     "metadata": {
      "needs_background": "light"
     },
     "output_type": "display_data"
    },
    {
     "name": "stdout",
     "output_type": "stream",
     "text": [
      "Max Value :   32443.85\n",
      "Min Value :   743.7\n"
     ]
    }
   ],
   "source": [
    "plot_attribute(nifty_bank_df,\"Close\",color='red')"
   ]
  },
  {
   "cell_type": "markdown",
   "metadata": {},
   "source": [
    "## Comparing time series<a id='7'></a>\n",
    "We will compare time series by normalizing them. This is achieved by dividing each time series element of all time series by the first element. This way both series start at the same point and can be easily compared."
   ]
  },
  {
   "cell_type": "code",
   "execution_count": 8,
   "metadata": {},
   "outputs": [
    {
     "data": {
      "image/png": "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\n",
      "text/plain": [
       "<Figure size 432x288 with 1 Axes>"
      ]
     },
     "metadata": {
      "needs_background": "light"
     },
     "output_type": "display_data"
    }
   ],
   "source": [
    "normalised_nifty_50_df = nifty_50_df[\"Close\"].div(nifty_50_df[\"Close\"].iloc[0]).mul(100)\n",
    "normalised_nifty_bank_df = nifty_bank_df[\"Close\"].div(nifty_bank_df['Close'].iloc[0]).mul(100)\n",
    "normalised_nifty_50_df.plot()\n",
    "normalised_nifty_bank_df.plot()\n",
    "plt.legend(['NIFTY 50','NIFTY BANK'])\n",
    "plt.show()"
   ]
  },
  {
   "cell_type": "markdown",
   "metadata": {},
   "source": [
    "## The augmented Dicky-Fuller test<a id='8'></a>\n",
    "* Tests for trend non-stationarity \n",
    "* Null hypothesis is time series is non-stationary"
   ]
  },
  {
   "cell_type": "code",
   "execution_count": 9,
   "metadata": {},
   "outputs": [
    {
     "data": {
      "text/plain": [
       "(-0.3754661132642198,\n",
       " 0.9141151738809121,\n",
       " 12,\n",
       " 5103,\n",
       " {'1%': -3.4316321070915023,\n",
       "  '5%': -2.8621065552117604,\n",
       "  '10%': -2.567071577593673},\n",
       " 58072.6661081668)"
      ]
     },
     "execution_count": 9,
     "metadata": {},
     "output_type": "execute_result"
    }
   ],
   "source": [
    "dicky_fuller_result = adfuller(nifty_50_df['Close'])\n",
    "dicky_fuller_result"
   ]
  },
  {
   "cell_type": "markdown",
   "metadata": {},
   "source": [
    "* 0th element is test statistic (-0.7655677955763277) \n",
    "> More negative means more likely to be stationary \n",
    "\n",
    "* 1st element is p-value: (0.8290276704492101) \n",
    "> 1. If p-value is small then 0.05→reject null hypothesis. Reject non-stationary.\n",
    "> 2. which is more than 0.05 null hypothesis is True and this is a random walk.¶\n",
    "\n",
    "* 4th element is the criticaltest statistics\n",
    "\n",
    "\n",
    "## **Making a time series stationary**<a id='9'></a>\n",
    "* Taking the difference\n",
    "> Difference: Δyt = yt − yt−1\n",
    "* Take the log \n",
    "> np.log(df) \n",
    "* Take the square root \n",
    "> np.sqrt(df) \n",
    "* Take the proportional change \n",
    "> df.shift(1)/df"
   ]
  },
  {
   "cell_type": "markdown",
   "metadata": {},
   "source": [
    "### Difference Δyt = yt − yt−1<a id='10'></a>"
   ]
  },
  {
   "cell_type": "code",
   "execution_count": 10,
   "metadata": {
    "scrolled": true
   },
   "outputs": [
    {
     "data": {
      "image/png": "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\n",
      "text/plain": [
       "<Figure size 1440x360 with 1 Axes>"
      ]
     },
     "metadata": {
      "needs_background": "light"
     },
     "output_type": "display_data"
    },
    {
     "name": "stdout",
     "output_type": "stream",
     "text": [
      "Max Value :   708.4000000000005\n",
      "Min Value :   -1135.2000000000007\n"
     ]
    }
   ],
   "source": [
    "plot_attribute(nifty_50_df.diff(),\"Close\",color='red')"
   ]
  },
  {
   "cell_type": "markdown",
   "metadata": {},
   "source": [
    "* difference 1 is a stationary series, here we can't see trend\n",
    "* Trend stationary: Trend is zero\n",
    "* Variance is constant"
   ]
  },
  {
   "cell_type": "markdown",
   "metadata": {},
   "source": [
    "### Proportional Change <a id='11'></a>"
   ]
  },
  {
   "cell_type": "code",
   "execution_count": 11,
   "metadata": {},
   "outputs": [
    {
     "data": {
      "image/png": "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\n",
      "text/plain": [
       "<Figure size 1440x360 with 1 Axes>"
      ]
     },
     "metadata": {
      "needs_background": "light"
     },
     "output_type": "display_data"
    },
    {
     "name": "stdout",
     "output_type": "stream",
     "text": [
      "Max Value :   1.6664473417824028\n",
      "Min Value :   0.3688453258828379\n"
     ]
    }
   ],
   "source": [
    "plot_attribute(nifty_50_df.shift(1)/nifty_bank_df,\"Close\",color='red')"
   ]
  },
  {
   "cell_type": "markdown",
   "metadata": {},
   "source": [
    "* Proportional change of nifty_50 data makes not series a stationary series ... we can see here negative trend"
   ]
  },
  {
   "cell_type": "markdown",
   "metadata": {},
   "source": [
    "## Window functions<a id='12'></a>\n",
    "* Window functions are used to identify sub periods, calculates sub-metrics of sub-periods.\n",
    "1. **Rolling** - Same size and sliding\n",
    "2. **Expanding** - Contains all prior values"
   ]
  },
  {
   "cell_type": "code",
   "execution_count": 12,
   "metadata": {},
   "outputs": [
    {
     "data": {
      "image/png": "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\n",
      "text/plain": [
       "<Figure size 1440x360 with 1 Axes>"
      ]
     },
     "metadata": {
      "needs_background": "light"
     },
     "output_type": "display_data"
    }
   ],
   "source": [
    "some_part_of_data = nifty_50_df['2016':'2020']\n",
    "\n",
    "rolling_nifty_50_df_10 = some_part_of_data['Close'].rolling('10D').mean()\n",
    "rolling_nifty_50_df_50 = some_part_of_data['Close'].rolling('50D').mean()\n",
    "rolling_nifty_50_df_100 = some_part_of_data['Close'].rolling('100D').mean()\n",
    "\n",
    "fig, ax = plt.subplots(1, figsize=(20,5))\n",
    "ax.plot(some_part_of_data.index,some_part_of_data['Close'])\n",
    "ax.plot(rolling_nifty_50_df_10.index, rolling_nifty_50_df_10)\n",
    "ax.plot(rolling_nifty_50_df_50.index, rolling_nifty_50_df_50)\n",
    "ax.plot(rolling_nifty_50_df_100.index, rolling_nifty_50_df_100)\n",
    "ax.set_title(\"Plotting a rolling mean of 10,50,100 day window with original Close attribute of Nifty stocks\")\n",
    "plt.legend(['Data','10D','50D','100D'])\n",
    "plt.show()"
   ]
  },
  {
   "cell_type": "markdown",
   "metadata": {},
   "source": [
    "# Financial Charts<a id='13'></a>"
   ]
  },
  {
   "cell_type": "markdown",
   "metadata": {},
   "source": [
    "## OHLC chart<a id='14'></a>"
   ]
  },
  {
   "cell_type": "markdown",
   "metadata": {},
   "source": [
    "The [OHLC](https://plotly.com/python/ohlc-charts/) chart (for open, high, low and close) is a style of financial chart describing open, high, low and close values for a given x coordinate (most likely time). The tip of the lines represent the low and high values and the horizontal segments represent the open and close values. Sample points where the close value is higher (lower) then the open value are called increasing (decreasing). By default, increasing items are drawn in green whereas decreasing are drawn in red."
   ]
  },
  {
   "cell_type": "code",
   "execution_count": 13,
   "metadata": {},
   "outputs": [
    {
     "data": {
      "application/vnd.plotly.v1+json": {
       "config": {
        "plotlyServerURL": "https://plot.ly"
       },
       "data": [
        {
         "close": [
          11132.75,
          11303.3,
          11251,
          11269,
          10989.45,
          10451.45,
          10458.4,
          9590.15,
          9955.2,
          9197.4,
          8967.05,
          8468.8,
          8263.45,
          8745.45,
          7610.25,
          7801.05,
          8317.85,
          8641.45,
          8660.25,
          8281.1,
          8597.75,
          8253.8,
          8083.8,
          8792.2,
          8748.75,
          9111.9,
          8993.85,
          8925.3,
          8992.8,
          9266.75,
          9261.85,
          8981.45,
          9187.3,
          9313.9,
          9154.4,
          9282.3,
          9380.9,
          9553.35,
          9859.9,
          9293.5,
          9205.6,
          9270.9,
          9199.05,
          9251.5,
          9239.2,
          9196.55,
          9383.55,
          9142.75,
          9136.85,
          8823.25,
          8879.1,
          9066.55,
          9106.25,
          9039.25,
          9029.05,
          9314.95,
          9490.1,
          9580.3,
          9826.15,
          9979.1,
          10061.55,
          10029.1,
          10142.15,
          10167.45,
          10046.65,
          10116.15,
          9902,
          9972.9,
          9813.7,
          9914,
          9881.15,
          10091.65,
          10244.4,
          10311.2,
          10471,
          10305.3,
          10288.9,
          10383,
          10312.4,
          10302.1,
          10430.05,
          10551.7,
          10607.35,
          10763.65,
          10799.65,
          10705.75,
          10813.45,
          10768.05,
          10802.7,
          10607.35,
          10618.2,
          10739.95,
          10901.7,
          11022.2,
          11162.25,
          11132.6,
          11215.45,
          11194.15,
          11131.8
         ],
         "high": [
          11433,
          11342.25,
          11356.6,
          11389.5,
          11035.1,
          10751.55,
          10545.1,
          10040.75,
          10159.4,
          9602.2,
          9403.8,
          9127.55,
          8575.45,
          8883,
          8159.25,
          8036.95,
          8376.75,
          8749.05,
          9038.9,
          8576,
          8678.3,
          8588.1,
          8356.55,
          8819.4,
          9131.7,
          9128.35,
          9112.05,
          9261.2,
          9053.75,
          9324,
          9390.85,
          9044.4,
          9209.75,
          9343.6,
          9296.9,
          9377.1,
          9404.4,
          9599.85,
          9889.05,
          9533.5,
          9450.9,
          9346.9,
          9277.85,
          9382.65,
          9439.9,
          9240.85,
          9584.5,
          9281.1,
          9182.4,
          9158.3,
          9030.35,
          9093.8,
          9178.55,
          9149.6,
          9161.65,
          9334,
          9511.25,
          9598.85,
          9931.6,
          9995.6,
          10176.2,
          10123.85,
          10177.8,
          10328.5,
          10291.15,
          10148.75,
          10112.05,
          9996.05,
          9943.35,
          10046.15,
          10003.6,
          10111.2,
          10272.4,
          10393.65,
          10484.7,
          10553.15,
          10361.8,
          10409.85,
          10337.95,
          10401.05,
          10447.05,
          10598.2,
          10631.3,
          10811.4,
          10813.8,
          10847.85,
          10836.85,
          10819.4,
          10894.05,
          10755.65,
          10827.45,
          10755.3,
          10933.45,
          11037.9,
          11179.55,
          11238.1,
          11239.8,
          11225.4,
          11225
         ],
         "low": [
          11036.25,
          11152.55,
          11082.15,
          11244.6,
          10827.4,
          10294.45,
          10334,
          9508,
          8555.15,
          9165.1,
          8915.6,
          8407.05,
          7832.55,
          8178.2,
          7583.6,
          7511.1,
          7714.75,
          8304.9,
          8522.9,
          8244,
          8358,
          8198.35,
          8055.8,
          8360.95,
          8653.9,
          8904.55,
          8912.4,
          8874.1,
          8821.9,
          9091.35,
          9230.8,
          8909.4,
          8946.25,
          9170.15,
          9141.3,
          9250.35,
          9260,
          9392.35,
          9731.5,
          9266.95,
          9190.75,
          9116.5,
          9175.9,
          9238.2,
          9219.95,
          9043.95,
          9351.1,
          9119.75,
          9050,
          8806.75,
          8855.3,
          8875.35,
          9056.1,
          8968.55,
          8996.65,
          9004.25,
          9336.5,
          9376.9,
          9706.95,
          9824.05,
          10035.55,
          9944.25,
          10040.75,
          10120.25,
          10021.45,
          10036.85,
          9885.05,
          9544.35,
          9726.35,
          9728.5,
          9833.8,
          9845.05,
          10072.65,
          10277.6,
          10301.75,
          10281.95,
          10194.5,
          10311.25,
          10223.6,
          10267.35,
          10299.6,
          10485.55,
          10562.65,
          10695.1,
          10689.7,
          10676.55,
          10733,
          10713,
          10756.05,
          10562.9,
          10577.75,
          10595.2,
          10749.65,
          10953,
          11113.25,
          11056.55,
          11103.15,
          11090.3,
          11087.85
         ],
         "open": [
          11387.35,
          11217.55,
          11351.35,
          11306.05,
          10942.65,
          10742.05,
          10334.3,
          10039.95,
          9107.6,
          9587.8,
          9285.4,
          9088.45,
          8063.3,
          8284.45,
          7945.7,
          7848.3,
          7735.15,
          8451,
          8949.1,
          8385.95,
          8529.35,
          8584.1,
          8356.55,
          8446.3,
          8688.9,
          8973.05,
          9103.95,
          9196.4,
          8851.25,
          9323.45,
          9390.2,
          9016.95,
          9026.75,
          9232.35,
          9163.9,
          9259.7,
          9389.8,
          9408.6,
          9753.5,
          9533.5,
          9429.4,
          9226.8,
          9234.05,
          9376.95,
          9348.15,
          9168.85,
          9584.2,
          9213.95,
          9182.4,
          9158.3,
          8961.7,
          8889.15,
          9079.45,
          9067.9,
          9099.75,
          9082.2,
          9364.95,
          9422.2,
          9726.85,
          9880.85,
          10108.3,
          10054.25,
          10093.8,
          10326.75,
          10181.15,
          10072.6,
          10094.1,
          9544.95,
          9919.35,
          10014.8,
          9876.7,
          9863.25,
          10119,
          10318.75,
          10347.95,
          10529.25,
          10235.55,
          10378.9,
          10311.95,
          10382.6,
          10323.8,
          10493.05,
          10614.95,
          10723.85,
          10802.85,
          10818.65,
          10755.55,
          10764.1,
          10851.85,
          10750.85,
          10701,
          10706.2,
          10752,
          10999.45,
          11126.1,
          11231.2,
          11135,
          11149.95,
          11225
         ],
         "type": "ohlc",
         "x": [
          "2020-03-02T00:00:00",
          "2020-03-03T00:00:00",
          "2020-03-04T00:00:00",
          "2020-03-05T00:00:00",
          "2020-03-06T00:00:00",
          "2020-03-09T00:00:00",
          "2020-03-11T00:00:00",
          "2020-03-12T00:00:00",
          "2020-03-13T00:00:00",
          "2020-03-16T00:00:00",
          "2020-03-17T00:00:00",
          "2020-03-18T00:00:00",
          "2020-03-19T00:00:00",
          "2020-03-20T00:00:00",
          "2020-03-23T00:00:00",
          "2020-03-24T00:00:00",
          "2020-03-25T00:00:00",
          "2020-03-26T00:00:00",
          "2020-03-27T00:00:00",
          "2020-03-30T00:00:00",
          "2020-03-31T00:00:00",
          "2020-04-01T00:00:00",
          "2020-04-03T00:00:00",
          "2020-04-07T00:00:00",
          "2020-04-08T00:00:00",
          "2020-04-09T00:00:00",
          "2020-04-13T00:00:00",
          "2020-04-15T00:00:00",
          "2020-04-16T00:00:00",
          "2020-04-17T00:00:00",
          "2020-04-20T00:00:00",
          "2020-04-21T00:00:00",
          "2020-04-22T00:00:00",
          "2020-04-23T00:00:00",
          "2020-04-24T00:00:00",
          "2020-04-27T00:00:00",
          "2020-04-28T00:00:00",
          "2020-04-29T00:00:00",
          "2020-04-30T00:00:00",
          "2020-05-04T00:00:00",
          "2020-05-05T00:00:00",
          "2020-05-06T00:00:00",
          "2020-05-07T00:00:00",
          "2020-05-08T00:00:00",
          "2020-05-11T00:00:00",
          "2020-05-12T00:00:00",
          "2020-05-13T00:00:00",
          "2020-05-14T00:00:00",
          "2020-05-15T00:00:00",
          "2020-05-18T00:00:00",
          "2020-05-19T00:00:00",
          "2020-05-20T00:00:00",
          "2020-05-21T00:00:00",
          "2020-05-22T00:00:00",
          "2020-05-26T00:00:00",
          "2020-05-27T00:00:00",
          "2020-05-28T00:00:00",
          "2020-05-29T00:00:00",
          "2020-06-01T00:00:00",
          "2020-06-02T00:00:00",
          "2020-06-03T00:00:00",
          "2020-06-04T00:00:00",
          "2020-06-05T00:00:00",
          "2020-06-08T00:00:00",
          "2020-06-09T00:00:00",
          "2020-06-10T00:00:00",
          "2020-06-11T00:00:00",
          "2020-06-12T00:00:00",
          "2020-06-15T00:00:00",
          "2020-06-16T00:00:00",
          "2020-06-17T00:00:00",
          "2020-06-18T00:00:00",
          "2020-06-19T00:00:00",
          "2020-06-22T00:00:00",
          "2020-06-23T00:00:00",
          "2020-06-24T00:00:00",
          "2020-06-25T00:00:00",
          "2020-06-26T00:00:00",
          "2020-06-29T00:00:00",
          "2020-06-30T00:00:00",
          "2020-07-01T00:00:00",
          "2020-07-02T00:00:00",
          "2020-07-03T00:00:00",
          "2020-07-06T00:00:00",
          "2020-07-07T00:00:00",
          "2020-07-08T00:00:00",
          "2020-07-09T00:00:00",
          "2020-07-10T00:00:00",
          "2020-07-13T00:00:00",
          "2020-07-14T00:00:00",
          "2020-07-15T00:00:00",
          "2020-07-16T00:00:00",
          "2020-07-17T00:00:00",
          "2020-07-20T00:00:00",
          "2020-07-21T00:00:00",
          "2020-07-22T00:00:00",
          "2020-07-23T00:00:00",
          "2020-07-24T00:00:00",
          "2020-07-27T00:00:00"
         ]
        }
       ],
       "layout": {
        "template": {
         "data": {
          "bar": [
           {
            "error_x": {
             "color": "#2a3f5f"
            },
            "error_y": {
             "color": "#2a3f5f"
            },
            "marker": {
             "line": {
              "color": "#E5ECF6",
              "width": 0.5
             }
            },
            "type": "bar"
           }
          ],
          "barpolar": [
           {
            "marker": {
             "line": {
              "color": "#E5ECF6",
              "width": 0.5
             }
            },
            "type": "barpolar"
           }
          ],
          "carpet": [
           {
            "aaxis": {
             "endlinecolor": "#2a3f5f",
             "gridcolor": "white",
             "linecolor": "white",
             "minorgridcolor": "white",
             "startlinecolor": "#2a3f5f"
            },
            "baxis": {
             "endlinecolor": "#2a3f5f",
             "gridcolor": "white",
             "linecolor": "white",
             "minorgridcolor": "white",
             "startlinecolor": "#2a3f5f"
            },
            "type": "carpet"
           }
          ],
          "choropleth": [
           {
            "colorbar": {
             "outlinewidth": 0,
             "ticks": ""
            },
            "type": "choropleth"
           }
          ],
          "contour": [
           {
            "colorbar": {
             "outlinewidth": 0,
             "ticks": ""
            },
            "colorscale": [
             [
              0,
              "#0d0887"
             ],
             [
              0.1111111111111111,
              "#46039f"
             ],
             [
              0.2222222222222222,
              "#7201a8"
             ],
             [
              0.3333333333333333,
              "#9c179e"
             ],
             [
              0.4444444444444444,
              "#bd3786"
             ],
             [
              0.5555555555555556,
              "#d8576b"
             ],
             [
              0.6666666666666666,
              "#ed7953"
             ],
             [
              0.7777777777777778,
              "#fb9f3a"
             ],
             [
              0.8888888888888888,
              "#fdca26"
             ],
             [
              1,
              "#f0f921"
             ]
            ],
            "type": "contour"
           }
          ],
          "contourcarpet": [
           {
            "colorbar": {
             "outlinewidth": 0,
             "ticks": ""
            },
            "type": "contourcarpet"
           }
          ],
          "heatmap": [
           {
            "colorbar": {
             "outlinewidth": 0,
             "ticks": ""
            },
            "colorscale": [
             [
              0,
              "#0d0887"
             ],
             [
              0.1111111111111111,
              "#46039f"
             ],
             [
              0.2222222222222222,
              "#7201a8"
             ],
             [
              0.3333333333333333,
              "#9c179e"
             ],
             [
              0.4444444444444444,
              "#bd3786"
             ],
             [
              0.5555555555555556,
              "#d8576b"
             ],
             [
              0.6666666666666666,
              "#ed7953"
             ],
             [
              0.7777777777777778,
              "#fb9f3a"
             ],
             [
              0.8888888888888888,
              "#fdca26"
             ],
             [
              1,
              "#f0f921"
             ]
            ],
            "type": "heatmap"
           }
          ],
          "heatmapgl": [
           {
            "colorbar": {
             "outlinewidth": 0,
             "ticks": ""
            },
            "colorscale": [
             [
              0,
              "#0d0887"
             ],
             [
              0.1111111111111111,
              "#46039f"
             ],
             [
              0.2222222222222222,
              "#7201a8"
             ],
             [
              0.3333333333333333,
              "#9c179e"
             ],
             [
              0.4444444444444444,
              "#bd3786"
             ],
             [
              0.5555555555555556,
              "#d8576b"
             ],
             [
              0.6666666666666666,
              "#ed7953"
             ],
             [
              0.7777777777777778,
              "#fb9f3a"
             ],
             [
              0.8888888888888888,
              "#fdca26"
             ],
             [
              1,
              "#f0f921"
             ]
            ],
            "type": "heatmapgl"
           }
          ],
          "histogram": [
           {
            "marker": {
             "colorbar": {
              "outlinewidth": 0,
              "ticks": ""
             }
            },
            "type": "histogram"
           }
          ],
          "histogram2d": [
           {
            "colorbar": {
             "outlinewidth": 0,
             "ticks": ""
            },
            "colorscale": [
             [
              0,
              "#0d0887"
             ],
             [
              0.1111111111111111,
              "#46039f"
             ],
             [
              0.2222222222222222,
              "#7201a8"
             ],
             [
              0.3333333333333333,
              "#9c179e"
             ],
             [
              0.4444444444444444,
              "#bd3786"
             ],
             [
              0.5555555555555556,
              "#d8576b"
             ],
             [
              0.6666666666666666,
              "#ed7953"
             ],
             [
              0.7777777777777778,
              "#fb9f3a"
             ],
             [
              0.8888888888888888,
              "#fdca26"
             ],
             [
              1,
              "#f0f921"
             ]
            ],
            "type": "histogram2d"
           }
          ],
          "histogram2dcontour": [
           {
            "colorbar": {
             "outlinewidth": 0,
             "ticks": ""
            },
            "colorscale": [
             [
              0,
              "#0d0887"
             ],
             [
              0.1111111111111111,
              "#46039f"
             ],
             [
              0.2222222222222222,
              "#7201a8"
             ],
             [
              0.3333333333333333,
              "#9c179e"
             ],
             [
              0.4444444444444444,
              "#bd3786"
             ],
             [
              0.5555555555555556,
              "#d8576b"
             ],
             [
              0.6666666666666666,
              "#ed7953"
             ],
             [
              0.7777777777777778,
              "#fb9f3a"
             ],
             [
              0.8888888888888888,
              "#fdca26"
             ],
             [
              1,
              "#f0f921"
             ]
            ],
            "type": "histogram2dcontour"
           }
          ],
          "mesh3d": [
           {
            "colorbar": {
             "outlinewidth": 0,
             "ticks": ""
            },
            "type": "mesh3d"
           }
          ],
          "parcoords": [
           {
            "line": {
             "colorbar": {
              "outlinewidth": 0,
              "ticks": ""
             }
            },
            "type": "parcoords"
           }
          ],
          "pie": [
           {
            "automargin": true,
            "type": "pie"
           }
          ],
          "scatter": [
           {
            "marker": {
             "colorbar": {
              "outlinewidth": 0,
              "ticks": ""
             }
            },
            "type": "scatter"
           }
          ],
          "scatter3d": [
           {
            "line": {
             "colorbar": {
              "outlinewidth": 0,
              "ticks": ""
             }
            },
            "marker": {
             "colorbar": {
              "outlinewidth": 0,
              "ticks": ""
             }
            },
            "type": "scatter3d"
           }
          ],
          "scattercarpet": [
           {
            "marker": {
             "colorbar": {
              "outlinewidth": 0,
              "ticks": ""
             }
            },
            "type": "scattercarpet"
           }
          ],
          "scattergeo": [
           {
            "marker": {
             "colorbar": {
              "outlinewidth": 0,
              "ticks": ""
             }
            },
            "type": "scattergeo"
           }
          ],
          "scattergl": [
           {
            "marker": {
             "colorbar": {
              "outlinewidth": 0,
              "ticks": ""
             }
            },
            "type": "scattergl"
           }
          ],
          "scattermapbox": [
           {
            "marker": {
             "colorbar": {
              "outlinewidth": 0,
              "ticks": ""
             }
            },
            "type": "scattermapbox"
           }
          ],
          "scatterpolar": [
           {
            "marker": {
             "colorbar": {
              "outlinewidth": 0,
              "ticks": ""
             }
            },
            "type": "scatterpolar"
           }
          ],
          "scatterpolargl": [
           {
            "marker": {
             "colorbar": {
              "outlinewidth": 0,
              "ticks": ""
             }
            },
            "type": "scatterpolargl"
           }
          ],
          "scatterternary": [
           {
            "marker": {
             "colorbar": {
              "outlinewidth": 0,
              "ticks": ""
             }
            },
            "type": "scatterternary"
           }
          ],
          "surface": [
           {
            "colorbar": {
             "outlinewidth": 0,
             "ticks": ""
            },
            "colorscale": [
             [
              0,
              "#0d0887"
             ],
             [
              0.1111111111111111,
              "#46039f"
             ],
             [
              0.2222222222222222,
              "#7201a8"
             ],
             [
              0.3333333333333333,
              "#9c179e"
             ],
             [
              0.4444444444444444,
              "#bd3786"
             ],
             [
              0.5555555555555556,
              "#d8576b"
             ],
             [
              0.6666666666666666,
              "#ed7953"
             ],
             [
              0.7777777777777778,
              "#fb9f3a"
             ],
             [
              0.8888888888888888,
              "#fdca26"
             ],
             [
              1,
              "#f0f921"
             ]
            ],
            "type": "surface"
           }
          ],
          "table": [
           {
            "cells": {
             "fill": {
              "color": "#EBF0F8"
             },
             "line": {
              "color": "white"
             }
            },
            "header": {
             "fill": {
              "color": "#C8D4E3"
             },
             "line": {
              "color": "white"
             }
            },
            "type": "table"
           }
          ]
         },
         "layout": {
          "annotationdefaults": {
           "arrowcolor": "#2a3f5f",
           "arrowhead": 0,
           "arrowwidth": 1
          },
          "coloraxis": {
           "colorbar": {
            "outlinewidth": 0,
            "ticks": ""
           }
          },
          "colorscale": {
           "diverging": [
            [
             0,
             "#8e0152"
            ],
            [
             0.1,
             "#c51b7d"
            ],
            [
             0.2,
             "#de77ae"
            ],
            [
             0.3,
             "#f1b6da"
            ],
            [
             0.4,
             "#fde0ef"
            ],
            [
             0.5,
             "#f7f7f7"
            ],
            [
             0.6,
             "#e6f5d0"
            ],
            [
             0.7,
             "#b8e186"
            ],
            [
             0.8,
             "#7fbc41"
            ],
            [
             0.9,
             "#4d9221"
            ],
            [
             1,
             "#276419"
            ]
           ],
           "sequential": [
            [
             0,
             "#0d0887"
            ],
            [
             0.1111111111111111,
             "#46039f"
            ],
            [
             0.2222222222222222,
             "#7201a8"
            ],
            [
             0.3333333333333333,
             "#9c179e"
            ],
            [
             0.4444444444444444,
             "#bd3786"
            ],
            [
             0.5555555555555556,
             "#d8576b"
            ],
            [
             0.6666666666666666,
             "#ed7953"
            ],
            [
             0.7777777777777778,
             "#fb9f3a"
            ],
            [
             0.8888888888888888,
             "#fdca26"
            ],
            [
             1,
             "#f0f921"
            ]
           ],
           "sequentialminus": [
            [
             0,
             "#0d0887"
            ],
            [
             0.1111111111111111,
             "#46039f"
            ],
            [
             0.2222222222222222,
             "#7201a8"
            ],
            [
             0.3333333333333333,
             "#9c179e"
            ],
            [
             0.4444444444444444,
             "#bd3786"
            ],
            [
             0.5555555555555556,
             "#d8576b"
            ],
            [
             0.6666666666666666,
             "#ed7953"
            ],
            [
             0.7777777777777778,
             "#fb9f3a"
            ],
            [
             0.8888888888888888,
             "#fdca26"
            ],
            [
             1,
             "#f0f921"
            ]
           ]
          },
          "colorway": [
           "#636efa",
           "#EF553B",
           "#00cc96",
           "#ab63fa",
           "#FFA15A",
           "#19d3f3",
           "#FF6692",
           "#B6E880",
           "#FF97FF",
           "#FECB52"
          ],
          "font": {
           "color": "#2a3f5f"
          },
          "geo": {
           "bgcolor": "white",
           "lakecolor": "white",
           "landcolor": "#E5ECF6",
           "showlakes": true,
           "showland": true,
           "subunitcolor": "white"
          },
          "hoverlabel": {
           "align": "left"
          },
          "hovermode": "closest",
          "mapbox": {
           "style": "light"
          },
          "paper_bgcolor": "white",
          "plot_bgcolor": "#E5ECF6",
          "polar": {
           "angularaxis": {
            "gridcolor": "white",
            "linecolor": "white",
            "ticks": ""
           },
           "bgcolor": "#E5ECF6",
           "radialaxis": {
            "gridcolor": "white",
            "linecolor": "white",
            "ticks": ""
           }
          },
          "scene": {
           "xaxis": {
            "backgroundcolor": "#E5ECF6",
            "gridcolor": "white",
            "gridwidth": 2,
            "linecolor": "white",
            "showbackground": true,
            "ticks": "",
            "zerolinecolor": "white"
           },
           "yaxis": {
            "backgroundcolor": "#E5ECF6",
            "gridcolor": "white",
            "gridwidth": 2,
            "linecolor": "white",
            "showbackground": true,
            "ticks": "",
            "zerolinecolor": "white"
           },
           "zaxis": {
            "backgroundcolor": "#E5ECF6",
            "gridcolor": "white",
            "gridwidth": 2,
            "linecolor": "white",
            "showbackground": true,
            "ticks": "",
            "zerolinecolor": "white"
           }
          },
          "shapedefaults": {
           "line": {
            "color": "#2a3f5f"
           }
          },
          "ternary": {
           "aaxis": {
            "gridcolor": "white",
            "linecolor": "white",
            "ticks": ""
           },
           "baxis": {
            "gridcolor": "white",
            "linecolor": "white",
            "ticks": ""
           },
           "bgcolor": "#E5ECF6",
           "caxis": {
            "gridcolor": "white",
            "linecolor": "white",
            "ticks": ""
           }
          },
          "title": {
           "x": 0.05
          },
          "xaxis": {
           "automargin": true,
           "gridcolor": "white",
           "linecolor": "white",
           "ticks": "",
           "title": {
            "standoff": 15
           },
           "zerolinecolor": "white",
           "zerolinewidth": 2
          },
          "yaxis": {
           "automargin": true,
           "gridcolor": "white",
           "linecolor": "white",
           "ticks": "",
           "title": {
            "standoff": 15
           },
           "zerolinecolor": "white",
           "zerolinewidth": 2
          }
         }
        },
        "title": {
         "text": "Nifty 50 From March 2020 to May 2020",
         "x": 0.5,
         "xanchor": "center",
         "y": 0.9,
         "yanchor": "top"
        },
        "xaxis": {
         "rangeslider": {
          "visible": true
         },
         "title": {
          "text": "Time"
         }
        },
        "yaxis": {
         "title": {
          "text": "Price"
         }
        }
       }
      },
      "text/html": [
       "<div>\n",
       "        \n",
       "        \n",
       "            <div id=\"7600f14e-b7d9-4f4b-92d7-81d618625d51\" class=\"plotly-graph-div\" style=\"height:525px; width:100%;\"></div>\n",
       "            <script type=\"text/javascript\">\n",
       "                require([\"plotly\"], function(Plotly) {\n",
       "                    window.PLOTLYENV=window.PLOTLYENV || {};\n",
       "                    \n",
       "                if (document.getElementById(\"7600f14e-b7d9-4f4b-92d7-81d618625d51\")) {\n",
       "                    Plotly.newPlot(\n",
       "                        '7600f14e-b7d9-4f4b-92d7-81d618625d51',\n",
       "                        [{\"close\": [11132.75, 11303.3, 11251.0, 11269.0, 10989.45, 10451.45, 10458.4, 9590.15, 9955.2, 9197.4, 8967.05, 8468.8, 8263.45, 8745.45, 7610.25, 7801.05, 8317.85, 8641.45, 8660.25, 8281.1, 8597.75, 8253.8, 8083.8, 8792.2, 8748.75, 9111.9, 8993.85, 8925.3, 8992.8, 9266.75, 9261.85, 8981.45, 9187.3, 9313.9, 9154.4, 9282.3, 9380.9, 9553.35, 9859.9, 9293.5, 9205.6, 9270.9, 9199.05, 9251.5, 9239.2, 9196.55, 9383.55, 9142.75, 9136.85, 8823.25, 8879.1, 9066.55, 9106.25, 9039.25, 9029.05, 9314.95, 9490.1, 9580.3, 9826.15, 9979.1, 10061.55, 10029.1, 10142.15, 10167.45, 10046.65, 10116.15, 9902.0, 9972.9, 9813.7, 9914.0, 9881.15, 10091.65, 10244.4, 10311.2, 10471.0, 10305.3, 10288.9, 10383.0, 10312.4, 10302.1, 10430.05, 10551.7, 10607.35, 10763.65, 10799.65, 10705.75, 10813.45, 10768.05, 10802.7, 10607.35, 10618.2, 10739.95, 10901.7, 11022.2, 11162.25, 11132.6, 11215.45, 11194.15, 11131.8], \"high\": [11433.0, 11342.25, 11356.6, 11389.5, 11035.1, 10751.55, 10545.1, 10040.75, 10159.4, 9602.2, 9403.8, 9127.55, 8575.45, 8883.0, 8159.25, 8036.95, 8376.75, 8749.05, 9038.9, 8576.0, 8678.3, 8588.1, 8356.55, 8819.4, 9131.7, 9128.35, 9112.05, 9261.2, 9053.75, 9324.0, 9390.85, 9044.4, 9209.75, 9343.6, 9296.9, 9377.1, 9404.4, 9599.85, 9889.05, 9533.5, 9450.9, 9346.9, 9277.85, 9382.65, 9439.9, 9240.85, 9584.5, 9281.1, 9182.4, 9158.3, 9030.35, 9093.8, 9178.55, 9149.6, 9161.65, 9334.0, 9511.25, 9598.85, 9931.6, 9995.6, 10176.2, 10123.85, 10177.8, 10328.5, 10291.15, 10148.75, 10112.05, 9996.05, 9943.35, 10046.15, 10003.6, 10111.2, 10272.4, 10393.65, 10484.7, 10553.15, 10361.8, 10409.85, 10337.95, 10401.05, 10447.05, 10598.2, 10631.3, 10811.4, 10813.8, 10847.85, 10836.85, 10819.4, 10894.05, 10755.65, 10827.45, 10755.3, 10933.45, 11037.9, 11179.55, 11238.1, 11239.8, 11225.4, 11225.0], \"low\": [11036.25, 11152.55, 11082.15, 11244.6, 10827.4, 10294.45, 10334.0, 9508.0, 8555.15, 9165.1, 8915.6, 8407.05, 7832.55, 8178.2, 7583.6, 7511.1, 7714.75, 8304.9, 8522.9, 8244.0, 8358.0, 8198.35, 8055.8, 8360.95, 8653.9, 8904.55, 8912.4, 8874.1, 8821.9, 9091.35, 9230.8, 8909.4, 8946.25, 9170.15, 9141.3, 9250.35, 9260.0, 9392.35, 9731.5, 9266.95, 9190.75, 9116.5, 9175.9, 9238.2, 9219.95, 9043.95, 9351.1, 9119.75, 9050.0, 8806.75, 8855.3, 8875.35, 9056.1, 8968.55, 8996.65, 9004.25, 9336.5, 9376.9, 9706.95, 9824.05, 10035.55, 9944.25, 10040.75, 10120.25, 10021.45, 10036.85, 9885.05, 9544.35, 9726.35, 9728.5, 9833.8, 9845.05, 10072.65, 10277.6, 10301.75, 10281.95, 10194.5, 10311.25, 10223.6, 10267.35, 10299.6, 10485.55, 10562.65, 10695.1, 10689.7, 10676.55, 10733.0, 10713.0, 10756.05, 10562.9, 10577.75, 10595.2, 10749.65, 10953.0, 11113.25, 11056.55, 11103.15, 11090.3, 11087.85], \"open\": [11387.35, 11217.55, 11351.35, 11306.05, 10942.65, 10742.05, 10334.3, 10039.95, 9107.6, 9587.8, 9285.4, 9088.45, 8063.3, 8284.45, 7945.7, 7848.3, 7735.15, 8451.0, 8949.1, 8385.95, 8529.35, 8584.1, 8356.55, 8446.3, 8688.9, 8973.05, 9103.95, 9196.4, 8851.25, 9323.45, 9390.2, 9016.95, 9026.75, 9232.35, 9163.9, 9259.7, 9389.8, 9408.6, 9753.5, 9533.5, 9429.4, 9226.8, 9234.05, 9376.95, 9348.15, 9168.85, 9584.2, 9213.95, 9182.4, 9158.3, 8961.7, 8889.15, 9079.45, 9067.9, 9099.75, 9082.2, 9364.95, 9422.2, 9726.85, 9880.85, 10108.3, 10054.25, 10093.8, 10326.75, 10181.15, 10072.6, 10094.1, 9544.95, 9919.35, 10014.8, 9876.7, 9863.25, 10119.0, 10318.75, 10347.95, 10529.25, 10235.55, 10378.9, 10311.95, 10382.6, 10323.8, 10493.05, 10614.95, 10723.85, 10802.85, 10818.65, 10755.55, 10764.1, 10851.85, 10750.85, 10701.0, 10706.2, 10752.0, 10999.45, 11126.1, 11231.2, 11135.0, 11149.95, 11225.0], \"type\": \"ohlc\", \"x\": [\"2020-03-02T00:00:00\", \"2020-03-03T00:00:00\", \"2020-03-04T00:00:00\", \"2020-03-05T00:00:00\", \"2020-03-06T00:00:00\", \"2020-03-09T00:00:00\", \"2020-03-11T00:00:00\", \"2020-03-12T00:00:00\", \"2020-03-13T00:00:00\", \"2020-03-16T00:00:00\", \"2020-03-17T00:00:00\", \"2020-03-18T00:00:00\", \"2020-03-19T00:00:00\", \"2020-03-20T00:00:00\", \"2020-03-23T00:00:00\", \"2020-03-24T00:00:00\", \"2020-03-25T00:00:00\", \"2020-03-26T00:00:00\", \"2020-03-27T00:00:00\", \"2020-03-30T00:00:00\", \"2020-03-31T00:00:00\", \"2020-04-01T00:00:00\", \"2020-04-03T00:00:00\", \"2020-04-07T00:00:00\", \"2020-04-08T00:00:00\", \"2020-04-09T00:00:00\", \"2020-04-13T00:00:00\", \"2020-04-15T00:00:00\", \"2020-04-16T00:00:00\", \"2020-04-17T00:00:00\", \"2020-04-20T00:00:00\", \"2020-04-21T00:00:00\", \"2020-04-22T00:00:00\", \"2020-04-23T00:00:00\", \"2020-04-24T00:00:00\", \"2020-04-27T00:00:00\", \"2020-04-28T00:00:00\", \"2020-04-29T00:00:00\", \"2020-04-30T00:00:00\", \"2020-05-04T00:00:00\", \"2020-05-05T00:00:00\", \"2020-05-06T00:00:00\", \"2020-05-07T00:00:00\", \"2020-05-08T00:00:00\", \"2020-05-11T00:00:00\", \"2020-05-12T00:00:00\", \"2020-05-13T00:00:00\", \"2020-05-14T00:00:00\", \"2020-05-15T00:00:00\", \"2020-05-18T00:00:00\", \"2020-05-19T00:00:00\", \"2020-05-20T00:00:00\", \"2020-05-21T00:00:00\", \"2020-05-22T00:00:00\", \"2020-05-26T00:00:00\", \"2020-05-27T00:00:00\", \"2020-05-28T00:00:00\", \"2020-05-29T00:00:00\", \"2020-06-01T00:00:00\", \"2020-06-02T00:00:00\", \"2020-06-03T00:00:00\", \"2020-06-04T00:00:00\", \"2020-06-05T00:00:00\", \"2020-06-08T00:00:00\", \"2020-06-09T00:00:00\", \"2020-06-10T00:00:00\", \"2020-06-11T00:00:00\", \"2020-06-12T00:00:00\", \"2020-06-15T00:00:00\", \"2020-06-16T00:00:00\", \"2020-06-17T00:00:00\", \"2020-06-18T00:00:00\", \"2020-06-19T00:00:00\", \"2020-06-22T00:00:00\", \"2020-06-23T00:00:00\", \"2020-06-24T00:00:00\", \"2020-06-25T00:00:00\", \"2020-06-26T00:00:00\", \"2020-06-29T00:00:00\", \"2020-06-30T00:00:00\", \"2020-07-01T00:00:00\", \"2020-07-02T00:00:00\", \"2020-07-03T00:00:00\", \"2020-07-06T00:00:00\", \"2020-07-07T00:00:00\", \"2020-07-08T00:00:00\", \"2020-07-09T00:00:00\", \"2020-07-10T00:00:00\", \"2020-07-13T00:00:00\", \"2020-07-14T00:00:00\", \"2020-07-15T00:00:00\", \"2020-07-16T00:00:00\", \"2020-07-17T00:00:00\", \"2020-07-20T00:00:00\", \"2020-07-21T00:00:00\", \"2020-07-22T00:00:00\", \"2020-07-23T00:00:00\", \"2020-07-24T00:00:00\", \"2020-07-27T00:00:00\"]}],\n",
       "                        {\"template\": {\"data\": {\"bar\": [{\"error_x\": {\"color\": \"#2a3f5f\"}, \"error_y\": {\"color\": \"#2a3f5f\"}, \"marker\": {\"line\": {\"color\": \"#E5ECF6\", \"width\": 0.5}}, \"type\": \"bar\"}], \"barpolar\": [{\"marker\": {\"line\": {\"color\": \"#E5ECF6\", \"width\": 0.5}}, \"type\": \"barpolar\"}], \"carpet\": [{\"aaxis\": {\"endlinecolor\": \"#2a3f5f\", \"gridcolor\": \"white\", \"linecolor\": \"white\", \"minorgridcolor\": \"white\", \"startlinecolor\": \"#2a3f5f\"}, \"baxis\": {\"endlinecolor\": \"#2a3f5f\", \"gridcolor\": \"white\", \"linecolor\": \"white\", \"minorgridcolor\": \"white\", \"startlinecolor\": \"#2a3f5f\"}, \"type\": \"carpet\"}], \"choropleth\": [{\"colorbar\": {\"outlinewidth\": 0, \"ticks\": \"\"}, \"type\": \"choropleth\"}], \"contour\": [{\"colorbar\": {\"outlinewidth\": 0, \"ticks\": \"\"}, \"colorscale\": [[0.0, \"#0d0887\"], [0.1111111111111111, \"#46039f\"], [0.2222222222222222, \"#7201a8\"], [0.3333333333333333, \"#9c179e\"], [0.44444
